{
 "cells": [
  {
   "cell_type": "markdown",
   "id": "published-cache",
   "metadata": {},
   "source": [
    "## Python Regular Expressions\n",
    "Regular expressions are a powerful language for matching text patterns. This comprises of characters, number, symbols that can be found from large string ofexpression.\n",
    "\n",
    "    The Python \"re\" module provides regular expression support.\n",
    "In Python a regular expression search is typically written as:\n"
   ]
  },
  {
   "cell_type": "code",
   "execution_count": 32,
   "id": "welsh-discovery",
   "metadata": {},
   "outputs": [],
   "source": [
    "  match = re.search(pat, str)#we are searchin for pat from the str and store to match"
   ]
  },
  {
   "cell_type": "markdown",
   "id": "electronic-offering",
   "metadata": {},
   "source": [
    "- The re.search() method takes a regular expression pattern and a string and searches for that pattern within the string. \n",
    "- If the search is successful, search() returns a match object or None otherwise. \n",
    "  \n",
    "  Therefore, the search is usually immediately followed by an if-statement to test if the search succeeded, as shown in the following example which searches for the pattern 'word:' followed by a 3 letter word "
   ]
  },
  {
   "cell_type": "markdown",
   "id": "developed-mystery",
   "metadata": {},
   "source": [
    "#### Example 1"
   ]
  },
  {
   "cell_type": "code",
   "execution_count": 17,
   "id": "funded-excitement",
   "metadata": {},
   "outputs": [
    {
     "name": "stdout",
     "output_type": "stream",
     "text": [
      "found =  word:cat\n"
     ]
    }
   ],
   "source": [
    "import re\n",
    "str = 'an example word:cat!!'\n",
    "match = re.search(r'word:\\w\\w\\w', str)\n",
    "# If-statement after search() tests if it succeeded\n",
    "if match:\n",
    "  print ('found = ', match.group()) ## 'found word:cat'\n",
    "else:\n",
    "  print ('did not find')"
   ]
  },
  {
   "cell_type": "markdown",
   "id": "special-chile",
   "metadata": {},
   "source": [
    "###### what are we telling the code to do ?\n",
    " Search through string variable str, which three characters follow 'word:'. if found, then group them\n",
    "\n",
    "    The code match = re.search(pat, str) stores the search result in a variable named \"match\". \n",
    "    Then the if-statement tests the match -- if true the search succeeded and \n",
    "    \n",
    "    match.group() is the matching text (e.g. 'word:cat'). Otherwise if the match is false (None to be more specific), then the search did not succeed, and there is no matching text.\n",
    "\n",
    "    The 'r' at the start of the pattern string designates a python \"raw\" string which passes through backslashes without change which is very handy for regular expressions (Java needs this feature badly!).\n",
    "    \n",
    "##### I recommend that you always write pattern strings with the 'r' just as a habit."
   ]
  },
  {
   "cell_type": "markdown",
   "id": "younger-mercury",
   "metadata": {},
   "source": [
    "#### Example 2"
   ]
  },
  {
   "cell_type": "code",
   "execution_count": 30,
   "id": "moving-profession",
   "metadata": {},
   "outputs": [
    {
     "name": "stdout",
     "output_type": "stream",
     "text": [
      "found:  word\n"
     ]
    }
   ],
   "source": [
    "import re\n",
    "\n",
    "statement = 'What are you searching for, a word or something else?'\n",
    "search = re.search(r'word',statement)\n",
    "if search:\n",
    "    print('found: ', search.group())\n",
    "else:\n",
    "    print('not found')"
   ]
  }
 ],
 "metadata": {
  "kernelspec": {
   "display_name": "Python 3",
   "language": "python",
   "name": "python3"
  },
  "language_info": {
   "codemirror_mode": {
    "name": "ipython",
    "version": 3
   },
   "file_extension": ".py",
   "mimetype": "text/x-python",
   "name": "python",
   "nbconvert_exporter": "python",
   "pygments_lexer": "ipython3",
   "version": "3.6.13"
  }
 },
 "nbformat": 4,
 "nbformat_minor": 5
}
