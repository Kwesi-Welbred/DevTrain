{
 "cells": [
  {
   "cell_type": "markdown",
   "id": "specialized-vietnamese",
   "metadata": {},
   "source": [
    "# LOOPS\n",
    "\n",
    "A loop is a programming construct that enables repetitive processing of a sequence of\n",
    "statements. Python provides two types of loops to its users: the `for loop` and the `while\n",
    "loop`. \n",
    "The `for` and `while` loops are iteration statements that allow a block of code (the body of the loop) to be repeated a number of times."
   ]
  },
  {
   "cell_type": "markdown",
   "id": "durable-participant",
   "metadata": {},
   "source": [
    "#### FOR LOOP\n",
    "\n",
    "- Python implements an iterator-based `for loop`. \n",
    "- It is a type of `for loop` that iterates over a list of items through an explicit or implicit iterator.\n",
    "- The loop is introduced by the keyword `for` which is followed by a random variable name which will contain the values supplied by the object.\n",
    "\n",
    "This is the syntax of Python’s ‘for loop’:\n",
    "      \n",
    "      for variable in list:\n",
    "        statements\n",
    "        else:\n",
    "        statements\n",
    "\n",
    "\n",
    "Here is an example of a `for loop`"
   ]
  },
  {
   "cell_type": "code",
   "execution_count": 5,
   "id": "included-excitement",
   "metadata": {},
   "outputs": [],
   "source": [
    "# print even numbers from 2 to 40\n",
    "for i in range(2, 40, 2):\n",
    "    even= i\n",
    "#     print(even)"
   ]
  },
  {
   "cell_type": "markdown",
   "id": "documentary-haiti",
   "metadata": {},
   "source": [
    "example 2: From a List = `[1,4,2,1,0,5,7,8,9,6,20,70,50,67,4,5,3]`\n",
    "1. print all the even numbers from the list\n",
    "2. sum all the even numbers"
   ]
  },
  {
   "cell_type": "code",
   "execution_count": 23,
   "id": "level-botswana",
   "metadata": {},
   "outputs": [
    {
     "name": "stdout",
     "output_type": "stream",
     "text": [
      "4\n",
      "2\n",
      "0\n",
      "8\n",
      "6\n",
      "20\n",
      "70\n",
      "50\n",
      "4\n"
     ]
    }
   ],
   "source": [
    "List = [1,4,2,1,0,5,7,8,9,6,20,70,50,67,4,5,3]\n",
    "for i in List:\n",
    "    if(i%2==0):\n",
    "        sum_of_even = i*i\n",
    "        print(i)"
   ]
  },
  {
   "cell_type": "code",
   "execution_count": 25,
   "id": "chronic-redhead",
   "metadata": {},
   "outputs": [
    {
     "name": "stdout",
     "output_type": "stream",
     "text": [
      "8\n"
     ]
    }
   ],
   "source": [
    "print(sum_of_even)"
   ]
  },
  {
   "cell_type": "code",
   "execution_count": null,
   "id": "incredible-terminology",
   "metadata": {},
   "outputs": [],
   "source": [
    "import math as calc\n",
    "\n",
    "sales = []\n",
    "\n",
    "pizza = ['Style Pizza','Pan Pizza','Thin n Crispy Pizza','Stuffed Crust Pizza']\n",
    "\n",
    "for choices in pizza:\n",
    "    user = input('Your choice: ')\n",
    "    if choices == user:\n",
    "        pay = input ('Please pay : $50')\n",
    "        \n",
    "        sales.append(pay)\n",
    "        \n",
    "        print('Your '+choices+' will be sent to you soon')\n",
    "        break\n",
    "    else:\n",
    "            print(choices + ': not found in the list')\n",
    "            break\n",
    "\n",
    "        "
   ]
  },
  {
   "cell_type": "code",
   "execution_count": 4,
   "id": "super-arrest",
   "metadata": {},
   "outputs": [],
   "source": [
    "sales?"
   ]
  }
 ],
 "metadata": {
  "kernelspec": {
   "display_name": "Python 3",
   "language": "python",
   "name": "python3"
  },
  "language_info": {
   "codemirror_mode": {
    "name": "ipython",
    "version": 3
   },
   "file_extension": ".py",
   "mimetype": "text/x-python",
   "name": "python",
   "nbconvert_exporter": "python",
   "pygments_lexer": "ipython3",
   "version": "3.6.13"
  }
 },
 "nbformat": 4,
 "nbformat_minor": 5
}
