{
 "cells": [
  {
   "cell_type": "markdown",
   "id": "modern-toyota",
   "metadata": {},
   "source": [
    " #                                            Numpy\n",
    "##### what's ?\n",
    "\n",
    "NumPy (Numerical Python) is an open source Python library that’s used in almost every field of science and engineering. It’s the universal standard for working with numerical data in Python, and it’s at the core of the scientific Python and PyData ecosystems.\n",
    "\n",
    "##### who can use?\n",
    "    NumPy users include everyone from beginning coders to experienced researchers doing state-of-the-art scientific and industrial research and development\n",
    "##### Application\n",
    "    The NumPy API is used extensively in Pandas, SciPy, Matplotlib, scikit-learn, scikit-image and most other data science and scientific Python packages.\n",
    "    NumPy can be used to perform a wide variety of mathematical operations on arrays.\n",
    "\n",
    "\n",
    "\n",
    "\n",
    "#### Why use NumPy?\n",
    "\n",
    "    NumPy arrays are faster and more compact than Python lists. An array consumes less memory and is convenient to use. NumPy uses much less memory to store data and it provides a mechanism of specifying the data types. This allows the code to be optimized even further.\n",
    "\n",
    "##### Numpy container\n",
    "- The NumPy library contains multidimensional array and matrix data structures. \n",
    "- It provides ndarray, a homogeneous n-dimensional array object, with methods to efficiently operate on it. \n",
    "- It adds powerful data structures to Python that guarantee efficient calculations with arrays and matrices and it supplies an enormous library of high-level mathematical functions that operate on these arrays and matrices.\n",
    "\n",
    "\n"
   ]
  },
  {
   "cell_type": "markdown",
   "id": "vanilla-airfare",
   "metadata": {},
   "source": [
    "## What is Numpy array?\n",
    "  1. An array is a central data structure of the NumPy library. \n",
    "  2. An array is a grid of values and it contains information about the raw data, how to locate an element, and how to interpret an element. \n",
    "  3. It has a grid of elements that can be indexed in various ways. The elements are all of the same type, referred to as the array dtype.\n",
    "  4. An array can be indexed by a tuple of nonnegative integers, by booleans, by another array, or by integers. \n",
    "\n",
    "  5. One way we can initialize NumPy arrays is from Python lists, using nested lists for two- or higher-dimensional data.\n",
    "\n",
    "\n",
    "- The array object represents a multidimensional, homogeneous array of fixed-size items.  \n",
    "- An associated data-type object describes the format of each element in the array (its byte-order, how many bytes it occupies in memory, whether it is an integer, a floating point number, or something else, etc.)\n",
    "\n",
    "    \n",
    "        \n",
    "Arrays should be constructed using `np.array()`,"
   ]
  },
  {
   "cell_type": "markdown",
   "id": "environmental-airport",
   "metadata": {},
   "source": [
    "To create a NumPy array, you can use the function `np.array()`.\n",
    "- For example"
   ]
  },
  {
   "cell_type": "code",
   "execution_count": 19,
   "id": "gentle-reward",
   "metadata": {},
   "outputs": [
    {
     "name": "stdout",
     "output_type": "stream",
     "text": [
      "[1 2 3 4 5 6] [[ 1  2  3  4]\n",
      " [ 5  6  7  8]\n",
      " [ 9 10 11 12]]\n"
     ]
    }
   ],
   "source": [
    "import numpy as np\n",
    "import math as calc\n",
    "\n",
    "a = np.array([1, 2, 3, 4, 5, 6])# array with a single list\n",
    "\n",
    "b = np.array([[1, 2, 3, 4], [5, 6, 7, 8], [9, 10, 11, 12]])#numpy array with two list\n",
    "\n",
    "print(a,b)\n"
   ]
  },
  {
   "cell_type": "markdown",
   "id": "antique-robertson",
   "metadata": {},
   "source": [
    "#### What’s the difference between a Python list and a NumPy array?\n",
    "NumPy gives you an enormous range of fast and efficient ways of creating arrays and manipulating numerical data inside them. While a Python list can contain different data types within a single list, all of the elements in a NumPy array should be homogeneous. The mathematical operations that are meant to be performed on arrays would be extremely inefficient if the arrays weren’t homogeneous."
   ]
  },
  {
   "cell_type": "markdown",
   "id": "middle-panel",
   "metadata": {},
   "source": [
    "#### Parameters of NumpyArray\n",
    "    ndarray(shape, dtype=float, buffer=None, offset=0,\n",
    "        strides=None, order=None)\n",
    "1. shape : tuple of ints\n",
    "    Shape of created array.\n",
    "2. dtype : data-type, optional\n",
    "    Any object that can be interpreted as a numpy data type.\n",
    "3. buffer : object exposing buffer interface, optional\n",
    "    Used to fill the array with data.\n",
    "4. offset : int, optional\n",
    "    Offset of array data in buffer.\n",
    "5. strides : tuple of ints, optional\n",
    "    Strides of data in memory.\n",
    "6. order : {'C', 'F'}, optional\n",
    "    Row-major (C-style) or column-major (Fortran-style) order.\n",
    "    "
   ]
  },
  {
   "cell_type": "markdown",
   "id": "objective-westminster",
   "metadata": {},
   "source": [
    "For example"
   ]
  },
  {
   "cell_type": "code",
   "execution_count": 65,
   "id": "directed-weekend",
   "metadata": {},
   "outputs": [
    {
     "data": {
      "text/plain": [
       "array([1, 2, 3, 4, 5, 6])"
      ]
     },
     "execution_count": 65,
     "metadata": {},
     "output_type": "execute_result"
    }
   ],
   "source": [
    "a = np.array([1, 2, 3, 4, 5, 6], dtype = int)# array with a single list and a type = int\n",
    "\n",
    "b = np.array([[1, 2, 3, 4], [5, 6, 7, 8], [9, 10, 11, 12]])#numpy array with two list\n",
    "a"
   ]
  },
  {
   "cell_type": "markdown",
   "id": "another-argentina",
   "metadata": {},
   "source": [
    "### Properties\n",
    "\n",
    "- `ndarray.ndim` will tell you the number of axes, or dimensions, of the array.\n",
    "\n",
    "- `ndarray.size` will tell you the total number of elements of the array. This is the product of the elements of the array’s shape.\n",
    "\n",
    "- `ndarray.shape` will display a tuple of integers that indicate the number of elements stored along each dimension of the array. If, for example, you have a 2-D array with 2 rows and 3 columns, the shape of your array is (2, 3).\n",
    "\n",
    "\n",
    "For example:"
   ]
  },
  {
   "cell_type": "code",
   "execution_count": 70,
   "id": "enclosed-calculator",
   "metadata": {},
   "outputs": [
    {
     "name": "stdout",
     "output_type": "stream",
     "text": [
      "2\n",
      "12\n",
      "(3, 4)\n"
     ]
    }
   ],
   "source": [
    "b = np.array([[1, 2, 3, 4], \n",
    "              [5, 6, 7, 8], \n",
    "              [9, 10, 11, 12]])\n",
    "\n",
    "dimen = b.ndim\n",
    "print(dimen)\n",
    "\n",
    "size = b.size\n",
    "print(size)\n",
    "\n",
    "shape = b.shape\n",
    "print(shape)"
   ]
  },
  {
   "cell_type": "markdown",
   "id": "disturbed-campbell",
   "metadata": {},
   "source": [
    "### Reshaping\n",
    "- Using arr.reshape() will give a new shape to an array without changing the data. Just remember that when you use the reshape method, the array you want to produce needs to have the same number of elements as the original array. If you start with an array with 12 elements, you’ll need to make sure that your new array also has a total of 12 elements.\n",
    "\n",
    "For exmaple: We can reshape b from (3,4) to (4,3)"
   ]
  },
  {
   "cell_type": "code",
   "execution_count": 72,
   "id": "solid-sydney",
   "metadata": {},
   "outputs": [
    {
     "name": "stdout",
     "output_type": "stream",
     "text": [
      "[[ 1  2  3]\n",
      " [ 4  5  6]\n",
      " [ 7  8  9]\n",
      " [10 11 12]]\n"
     ]
    }
   ],
   "source": [
    "a = b.reshape(4,3)\n",
    "\n",
    "print(a)"
   ]
  },
  {
   "cell_type": "markdown",
   "id": "conservative-phenomenon",
   "metadata": {},
   "source": [
    "### Reshaping with optional parameters\n",
    "\n",
    "    numpy.reshape(a, newshape=(1, 6), order='C')\n",
    "    \n",
    "- a is the array to be reshaped.\n",
    "\n",
    "- newshape is the new shape you want. You can specify an integer or a tuple of integers. If you specify an integer, the result will be an array of that length. The shape should be compatible with the original shape.\n",
    "\n",
    "- order: C means to read/write the elements using C-like index order, F means to read/write the elements using Fortran-like index order, A means to read/write the elements in Fortran-like index order if a is Fortran contiguous in memory, C-like order otherwise. (This is an optional parameter and doesn’t need to be specified.)\n"
   ]
  },
  {
   "cell_type": "code",
   "execution_count": 76,
   "id": "renewable-argentina",
   "metadata": {},
   "outputs": [
    {
     "name": "stdout",
     "output_type": "stream",
     "text": [
      "[[ 1  2]\n",
      " [ 3  4]\n",
      " [ 5  6]\n",
      " [ 7  8]\n",
      " [ 9 10]\n",
      " [11 12]]\n"
     ]
    }
   ],
   "source": [
    "import numpy as np\n",
    "newArr = np.reshape(a, newshape=(6,2), order = 'C')\n",
    "print(newArr)"
   ]
  },
  {
   "cell_type": "markdown",
   "id": "danish-redhead",
   "metadata": {},
   "source": [
    "## Other Different ways of creating numpy array list \n",
    "\n",
    "`np.zeros()`, `np.ones()`, `np.empty()`, `np.arange()`, `np.linspace()`\n",
    "\n",
    "### np.zeros()\n",
    "Besides creating an array from a sequence of elements, you can easily create an array filled with 0’s"
   ]
  },
  {
   "cell_type": "code",
   "execution_count": 23,
   "id": "million-excess",
   "metadata": {},
   "outputs": [
    {
     "data": {
      "text/plain": [
       "array([0., 0.])"
      ]
     },
     "execution_count": 23,
     "metadata": {},
     "output_type": "execute_result"
    }
   ],
   "source": [
    "b = np.zeros(2)\n",
    "b"
   ]
  },
  {
   "cell_type": "markdown",
   "id": "confirmed-connecticut",
   "metadata": {},
   "source": [
    "### np.ones()\n",
    "an array filled with 1’s:"
   ]
  },
  {
   "cell_type": "code",
   "execution_count": 25,
   "id": "three-aggregate",
   "metadata": {},
   "outputs": [
    {
     "data": {
      "text/plain": [
       "array([1., 1.])"
      ]
     },
     "execution_count": 25,
     "metadata": {},
     "output_type": "execute_result"
    }
   ],
   "source": [
    "c = np.ones(2)\n",
    "c"
   ]
  },
  {
   "cell_type": "markdown",
   "id": "harmful-pursuit",
   "metadata": {},
   "source": [
    "### np.empty()\n",
    "Or even an empty array! The function empty creates an array whose initial content is random and depends on the state of the memory. The reason to use empty over zeros (or something similar) is speed - just make sure to fill every element afterwards!\n",
    "\n"
   ]
  },
  {
   "cell_type": "code",
   "execution_count": 35,
   "id": "informational-letter",
   "metadata": {},
   "outputs": [
    {
     "data": {
      "text/plain": [
       "array([1., 1.])"
      ]
     },
     "execution_count": 35,
     "metadata": {},
     "output_type": "execute_result"
    }
   ],
   "source": [
    " # Create an empty array with 2 elements\n",
    "d = np.empty(2)\n",
    "d"
   ]
  },
  {
   "cell_type": "markdown",
   "id": "fatty-marks",
   "metadata": {},
   "source": [
    "### np.arange()\n",
    "You can create an array with a range of elements: The code below creates a 1D array from 0-3"
   ]
  },
  {
   "cell_type": "code",
   "execution_count": 29,
   "id": "assumed-apartment",
   "metadata": {},
   "outputs": [
    {
     "data": {
      "text/plain": [
       "array([0, 1, 2, 3])"
      ]
     },
     "execution_count": 29,
     "metadata": {},
     "output_type": "execute_result"
    }
   ],
   "source": [
    "e = np.arange(4)\n",
    "e"
   ]
  },
  {
   "cell_type": "markdown",
   "id": "running-safety",
   "metadata": {},
   "source": [
    "And even an array that contains a range of evenly spaced intervals. \n",
    "\n",
    "   To do this, you will specify the `first number`, `last number`, and the `step size`."
   ]
  },
  {
   "cell_type": "code",
   "execution_count": 31,
   "id": "gorgeous-substance",
   "metadata": {},
   "outputs": [
    {
     "data": {
      "text/plain": [
       "array([2, 4, 6, 8])"
      ]
     },
     "execution_count": 31,
     "metadata": {},
     "output_type": "execute_result"
    }
   ],
   "source": [
    "a = np.arange(2, 9, 2)\n",
    "a"
   ]
  },
  {
   "cell_type": "markdown",
   "id": "interpreted-locking",
   "metadata": {},
   "source": [
    "### np.linspace()\n",
    "You can also use np.linspace() to create an array with values that are spaced linearly in a specified interval:\n",
    "\n"
   ]
  },
  {
   "cell_type": "code",
   "execution_count": 38,
   "id": "instant-receptor",
   "metadata": {},
   "outputs": [
    {
     "data": {
      "text/plain": [
       "array([ 0.,  5., 10.])"
      ]
     },
     "execution_count": 38,
     "metadata": {},
     "output_type": "execute_result"
    }
   ],
   "source": [
    "lin = np.linspace(0, 10, num=3)\n",
    "lin"
   ]
  },
  {
   "cell_type": "code",
   "execution_count": null,
   "id": "together-direction",
   "metadata": {},
   "outputs": [],
   "source": []
  },
  {
   "cell_type": "markdown",
   "id": "demonstrated-partnership",
   "metadata": {},
   "source": [
    "## Adding, removing, and sorting elements\n",
    "\n",
    "    This section covers np.sort(), np.concatenate()\n",
    "    "
   ]
  },
  {
   "cell_type": "markdown",
   "id": "affecting-springer",
   "metadata": {},
   "source": [
    "### Sorting\n",
    "Sorting an element is simple with np.sort(). You can specify the axis, kind, and order when you call the function.\n",
    "\n",
    "If you start with this array:\n"
   ]
  },
  {
   "cell_type": "code",
   "execution_count": 42,
   "id": "important-floor",
   "metadata": {},
   "outputs": [],
   "source": [
    "arr = np.array([2, 1, 5, 3, 7, 4, 6, 8])"
   ]
  },
  {
   "cell_type": "markdown",
   "id": "ranging-ghana",
   "metadata": {},
   "source": [
    "You can quickly sort the numbers in ascending order with:"
   ]
  },
  {
   "cell_type": "code",
   "execution_count": 44,
   "id": "informative-timothy",
   "metadata": {},
   "outputs": [
    {
     "data": {
      "text/plain": [
       "array([1, 2, 3, 4, 5, 6, 7, 8])"
      ]
     },
     "execution_count": 44,
     "metadata": {},
     "output_type": "execute_result"
    }
   ],
   "source": [
    "ascending = np.sort(arr)\n",
    "ascending"
   ]
  },
  {
   "cell_type": "markdown",
   "id": "bright-terror",
   "metadata": {},
   "source": [
    "In addition to sort, which returns a sorted copy of an array, you can use:\n",
    "\n",
    "- argsort, which is an indirect sort along a specified axis,\n",
    "\n",
    "- lexsort, which is an indirect stable sort on multiple keys,\n",
    "\n",
    "- searchsorted, which will find elements in a sorted array, and\n",
    "\n",
    "- partition, which is a partial sort.\n",
    "\n",
    "To learn more, see [https://numpy.org/doc/stable/reference/generated/numpy.sort.html#numpy.sort]"
   ]
  },
  {
   "cell_type": "markdown",
   "id": "foreign-conference",
   "metadata": {},
   "source": [
    "### Concatenation\n",
    "You can concatenate them with np.concatenate((arrs), axis='x or y').\n",
    "- The arrs are the arrays to be concatenated\n",
    "- axis are the dimenstion for concatenated arrs: \n",
    "\n",
    "x = 0, for 1D array, y = 1 nD array\n",
    "\n",
    "Note: if you choose your axis = 1,then your array rows of a = array colum of b\n",
    "\n",
    "all the input array dimensions for the concatenation axis must match exactly\n",
    "\n",
    "For example:"
   ]
  },
  {
   "cell_type": "code",
   "execution_count": 46,
   "id": "written-excess",
   "metadata": {},
   "outputs": [],
   "source": [
    "a = np.array([1, 2, 3, 4])\n",
    "b = np.array([5, 6, 7, 8])"
   ]
  },
  {
   "cell_type": "code",
   "execution_count": 53,
   "id": "compressed-brother",
   "metadata": {},
   "outputs": [
    {
     "data": {
      "text/plain": [
       "array([1, 2, 3, 4, 5, 6, 7, 8])"
      ]
     },
     "execution_count": 53,
     "metadata": {},
     "output_type": "execute_result"
    }
   ],
   "source": [
    "ab = np.concatenate((a,b), axis = 0)\n",
    "ab"
   ]
  },
  {
   "cell_type": "code",
   "execution_count": 59,
   "id": "compressed-massage",
   "metadata": {},
   "outputs": [
    {
     "data": {
      "text/plain": [
       "array([[1, 2],\n",
       "       [3, 4],\n",
       "       [5, 6]])"
      ]
     },
     "execution_count": 59,
     "metadata": {},
     "output_type": "execute_result"
    }
   ],
   "source": [
    "x = np.array([[1, 2], [3, 4]])\n",
    "y = np.array([[5, 6]])\n",
    "\n",
    "res = np.concatenate((x,y), axis = 0)# adding y to x, so, y will be next array list of x\n",
    "res"
   ]
  },
  {
   "cell_type": "code",
   "execution_count": 63,
   "id": "direct-approval",
   "metadata": {},
   "outputs": [
    {
     "data": {
      "text/plain": [
       "array([[1, 2],\n",
       "       [3, 4],\n",
       "       [5, 6],\n",
       "       [7, 8]])"
      ]
     },
     "execution_count": 63,
     "metadata": {},
     "output_type": "execute_result"
    }
   ],
   "source": [
    "x = np.array([[1, 2], [3, 4]])\n",
    "y = np.array([[5, 6], [7,8]])\n",
    "\n",
    "res = np.concatenate((x,y), axis = 0)# adding y to x, so, y will be next array list of x on 2 rows\n",
    "res"
   ]
  },
  {
   "cell_type": "code",
   "execution_count": 77,
   "id": "joint-legend",
   "metadata": {},
   "outputs": [
    {
     "data": {
      "text/plain": [
       "array([[1, 2, 5, 6],\n",
       "       [3, 4, 7, 8]])"
      ]
     },
     "execution_count": 77,
     "metadata": {},
     "output_type": "execute_result"
    }
   ],
   "source": [
    "x = np.array([[1, 2], [3, 4]])\n",
    "y = np.array([[5, 6], [7,8]])\n",
    "\n",
    "res = np.concatenate((x,y), axis = 1)# adding y to x, so, y will be next column array list of x\n",
    "res"
   ]
  },
  {
   "cell_type": "markdown",
   "id": "tribal-mainstream",
   "metadata": {},
   "source": [
    "### How to convert a 1D array into a 2D array (how to add a new axis to an array)\n",
    "You can use `np.newaxis` and `np.expand_dims` to increase the dimensions of your existing array.\n",
    "\n",
    "Using `np.newaxis` will increase the dimensions of your array by one dimension when used once. \n",
    "This means that a 1D array will become a 2D array, a 2D array will become a 3D array, and so on.\n",
    "\n",
    "For example:\n"
   ]
  },
  {
   "cell_type": "code",
   "execution_count": 79,
   "id": "conceptual-fraud",
   "metadata": {},
   "outputs": [
    {
     "name": "stdout",
     "output_type": "stream",
     "text": [
      "(6,)\n"
     ]
    }
   ],
   "source": [
    "a = np.array([1, 2, 3, 4, 5, 6])\n",
    "print(a.shape)"
   ]
  },
  {
   "cell_type": "markdown",
   "id": "apparent-frontier",
   "metadata": {},
   "source": [
    "You can use `np.newaxis` to add a new axis: either row or colum"
   ]
  },
  {
   "cell_type": "code",
   "execution_count": 86,
   "id": "incident-halifax",
   "metadata": {},
   "outputs": [
    {
     "name": "stdout",
     "output_type": "stream",
     "text": [
      "(1, 6)\n"
     ]
    },
    {
     "data": {
      "text/plain": [
       "array([[1, 2, 3, 4, 5, 6]])"
      ]
     },
     "execution_count": 86,
     "metadata": {},
     "output_type": "execute_result"
    }
   ],
   "source": [
    "#adding it to a row\n",
    "a2 = a[np.newaxis,:]\n",
    "print(a2.shape)\n",
    "a2"
   ]
  },
  {
   "cell_type": "code",
   "execution_count": 87,
   "id": "normal-court",
   "metadata": {},
   "outputs": [
    {
     "name": "stdout",
     "output_type": "stream",
     "text": [
      "(6, 1)\n"
     ]
    },
    {
     "data": {
      "text/plain": [
       "array([[1],\n",
       "       [2],\n",
       "       [3],\n",
       "       [4],\n",
       "       [5],\n",
       "       [6]])"
      ]
     },
     "execution_count": 87,
     "metadata": {},
     "output_type": "execute_result"
    }
   ],
   "source": [
    "#adding it to column\n",
    "a2 = a[:, np.newaxis]\n",
    "print(a2.shape)\n",
    "a2"
   ]
  },
  {
   "cell_type": "markdown",
   "id": "varying-roads",
   "metadata": {},
   "source": [
    "You can also expand an array by inserting a new axis at a specified position with np.expand_dims.\n",
    "\n",
    "For example, if you start with this array:\n",
    "\n",
    "\n"
   ]
  },
  {
   "cell_type": "code",
   "execution_count": null,
   "id": "finished-journalist",
   "metadata": {},
   "outputs": [],
   "source": [
    "a = np.array([1, 2, 3, 4, 5, 6])"
   ]
  },
  {
   "cell_type": "code",
   "execution_count": 90,
   "id": "labeled-tenant",
   "metadata": {},
   "outputs": [
    {
     "name": "stdout",
     "output_type": "stream",
     "text": [
      "(6, 1)\n",
      "(1, 6)\n"
     ]
    }
   ],
   "source": [
    "#You can use np.expand_dims to add an axis at index position 1 with:\n",
    "b = np.expand_dims(a, axis=1)\n",
    "print(b.shape)\n",
    "\n",
    "# You can use np.expand_dims to add an axis at index position 0 with:\n",
    "c = np.expand_dims(a, axis=0)\n",
    "print(c.shape)"
   ]
  }
 ],
 "metadata": {
  "kernelspec": {
   "display_name": "Python 3",
   "language": "python",
   "name": "python3"
  },
  "language_info": {
   "codemirror_mode": {
    "name": "ipython",
    "version": 3
   },
   "file_extension": ".py",
   "mimetype": "text/x-python",
   "name": "python",
   "nbconvert_exporter": "python",
   "pygments_lexer": "ipython3",
   "version": "3.6.13"
  }
 },
 "nbformat": 4,
 "nbformat_minor": 5
}
